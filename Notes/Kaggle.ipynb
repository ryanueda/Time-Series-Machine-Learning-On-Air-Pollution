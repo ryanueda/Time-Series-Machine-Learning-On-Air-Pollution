{
 "cells": [
  {
   "cell_type": "code",
   "execution_count": 1,
   "id": "a2e2c439",
   "metadata": {},
   "outputs": [],
   "source": [
    "import pandas as pd\n",
    "import numpy as np"
   ]
  },
  {
   "cell_type": "markdown",
   "id": "77c16db2",
   "metadata": {},
   "source": [
    "Model Ranking By Score:\n",
    "    1) SARIMAX + No Imputation + GridSearch\n",
    "    2) SARIMAX + No Imputation\n",
    "    3) ARIMA + No Imputation\n",
    "    4) SARIMAX + Imputation + GridSearch\n",
    "    5) Auto Arima SARIMAX + Imputation + Gridsearch\n",
    "    \n",
    " To-Be-Tested:\n",
    "     - SARIMAX without seasonality + No Imputation + GridSearch\n",
    "     - Low RMSE SARIMAX  + No Imputation + GridSearch (Likely to have low score)"
   ]
  },
  {
   "cell_type": "markdown",
   "id": "4fba78ff",
   "metadata": {},
   "source": [
    "## ROUND 1 (SARIMAX + Imputation)"
   ]
  },
  {
   "cell_type": "code",
   "execution_count": 20,
   "id": "a8589e13",
   "metadata": {},
   "outputs": [],
   "source": [
    "CO = pd.read_csv('AA Forecast/CO AA Forecast.csv')\n",
    "HC = pd.read_csv('AA Forecast/HC AA Forecast.csv')\n",
    "NO = pd.read_csv('AA Forecast/NO AA Forecast.csv')\n",
    "O = pd.read_csv('AA Forecast/O3 AA Forecast.csv')\n",
    "\n",
    "kaggleDF = pd.concat([CO, HC, NO, O], axis=0)\n",
    "indexInsert = np.arange(0,252)\n",
    "kaggleDF.insert(0, 'id', indexInsert)\n",
    "kaggleDF.reset_index(drop=True, inplace=True)\n",
    "kaggleDF.to_csv('AA Kaggle Predictions 1.csv')"
   ]
  },
  {
   "cell_type": "code",
   "execution_count": 21,
   "id": "79098c1e",
   "metadata": {},
   "outputs": [],
   "source": [
    "d1 = pd.read_csv('ARIMA Forecast/CO Forecast.csv')\n",
    "d2 = pd.read_csv('ARIMA Forecast/HC Forecast.csv')\n",
    "d3 = pd.read_csv('ARIMA Forecast/NO2 Forecast.csv')\n",
    "d4 = pd.read_csv('ARIMA Forecast/O3 Forecast.csv')\n",
    "\n",
    "kaggleDF2 = pd.concat([d1, d2, d3, d4], axis=0)\n",
    "indexInsert = np.arange(0,252)\n",
    "kaggleDF2.insert(0, 'id', indexInsert)\n",
    "kaggleDF2.reset_index(drop=True, inplace=True)\n",
    "kaggleDF2.to_csv('ARIMA Kaggle Predictions 2.csv')"
   ]
  },
  {
   "cell_type": "markdown",
   "id": "2e7a479c",
   "metadata": {},
   "source": [
    "## ROUND 2 (Auto Arima SARIMAX + Imputation)"
   ]
  },
  {
   "cell_type": "code",
   "execution_count": 23,
   "id": "b2e671b6",
   "metadata": {},
   "outputs": [],
   "source": [
    "a1 = pd.read_csv('AA FORECAST 2/CO AA Forecast.csv')\n",
    "a2 = pd.read_csv('AA FORECAST 2/HC AA Forecast.csv')\n",
    "a3 = pd.read_csv('AA FORECAST 2/NO2 AA Forecast.csv')\n",
    "a4 = pd.read_csv('AA FORECAST 2/O3 AA Forecast.csv')\n",
    "\n",
    "kaggleDF = pd.concat([a1, a2, a3, a4], axis=0)\n",
    "indexInsert = np.arange(0,252)\n",
    "kaggleDF.insert(0, 'id', indexInsert)\n",
    "kaggleDF.reset_index(drop=True, inplace=True)\n",
    "kaggleDF.to_csv('AA Kaggle Predictions 2.csv')"
   ]
  },
  {
   "cell_type": "markdown",
   "id": "28a4f798",
   "metadata": {},
   "source": [
    "## ROUND 3 (SARIMAX + No Imputation)"
   ]
  },
  {
   "cell_type": "code",
   "execution_count": 24,
   "id": "296a5a83",
   "metadata": {},
   "outputs": [],
   "source": [
    "b1 = pd.read_csv('ARIMA FORECAST 2/CO Forecast.csv')\n",
    "b2 = pd.read_csv('ARIMA FORECAST 2/HC Forecast.csv')\n",
    "b3 = pd.read_csv('ARIMA FORECAST 2/NO2 Forecast.csv')\n",
    "b4 = pd.read_csv('ARIMA FORECAST 2/O3 Forecast.csv')\n",
    "\n",
    "kaggleDF = pd.concat([b1, b2, b3, b4], axis=0)\n",
    "indexInsert = np.arange(0,252)\n",
    "kaggleDF.insert(0, 'id', indexInsert)\n",
    "kaggleDF.reset_index(drop=True, inplace=True)\n",
    "kaggleDF.to_csv('ARIMA Kaggle Predictions 2.csv')"
   ]
  },
  {
   "cell_type": "markdown",
   "id": "e60acac9",
   "metadata": {},
   "source": [
    "## ROUND 3 (NOT SARIMAX + No Imputation)"
   ]
  },
  {
   "cell_type": "code",
   "execution_count": 28,
   "id": "b1385748",
   "metadata": {},
   "outputs": [],
   "source": [
    "c1 = pd.read_csv('ARIMA FORECAST 3/CO Forecast.csv')\n",
    "c2 = pd.read_csv('ARIMA FORECAST 3/HC Forecast.csv')\n",
    "c3 = pd.read_csv('ARIMA FORECAST 3/NO2 Forecast.csv')\n",
    "c4 = pd.read_csv('ARIMA FORECAST 3/O3 Forecast.csv')\n",
    "\n",
    "kaggleDF = pd.concat([c1, c2, c3, c4], axis=0)\n",
    "indexInsert = np.arange(0,252)\n",
    "kaggleDF.insert(0, 'id', indexInsert)\n",
    "kaggleDF.reset_index(drop=True, inplace=True)\n",
    "kaggleDF.to_csv('ARIMA Kaggle Predictions 3.csv')"
   ]
  },
  {
   "cell_type": "markdown",
   "id": "a4e946ed",
   "metadata": {},
   "source": [
    "## ROUND 4 (SARIMAX + No Imputation + GridSearch)"
   ]
  },
  {
   "cell_type": "code",
   "execution_count": 2,
   "id": "c4c3ae9e",
   "metadata": {},
   "outputs": [],
   "source": [
    "d1 = pd.read_csv('ARIMA FORECAST 4/CO Forecast.csv')\n",
    "d2 = pd.read_csv('ARIMA FORECAST 4/HC Forecast.csv')\n",
    "d3 = pd.read_csv('ARIMA FORECAST 4/NO2 Forecast.csv')\n",
    "d4 = pd.read_csv('ARIMA FORECAST 4/O3 Forecast.csv')\n",
    "\n",
    "kaggleDF = pd.concat([d1, d2, d3, d4], axis=0)\n",
    "indexInsert = np.arange(0,252)\n",
    "kaggleDF.insert(0, 'id', indexInsert)\n",
    "kaggleDF.reset_index(drop=True, inplace=True)\n",
    "kaggleDF.to_csv('ARIMA Kaggle Predictions 4.csv')"
   ]
  },
  {
   "cell_type": "markdown",
   "id": "6bd83612",
   "metadata": {},
   "source": [
    "## ROUND 5 (SARIMAX + No Imputation + GridSearch + RMSE Measure)"
   ]
  },
  {
   "cell_type": "code",
   "execution_count": 4,
   "id": "71b31934",
   "metadata": {},
   "outputs": [],
   "source": [
    "e1 = pd.read_csv('ARIMA FORECAST 5/CO Forecast.csv')\n",
    "e2 = pd.read_csv('ARIMA FORECAST 5/HC Forecast.csv')\n",
    "e3 = pd.read_csv('ARIMA FORECAST 5/NO2 Forecast.csv')\n",
    "e4 = pd.read_csv('ARIMA FORECAST 5/O3 Forecast.csv')\n",
    "\n",
    "kaggleDF = pd.concat([e1, e2, e3, e4], axis=0)\n",
    "indexInsert = np.arange(0,252)\n",
    "kaggleDF.insert(0, 'id', indexInsert)\n",
    "kaggleDF.reset_index(drop=True, inplace=True)\n",
    "kaggleDF.to_csv('ARIMA Kaggle Predictions 5.csv')"
   ]
  },
  {
   "cell_type": "markdown",
   "id": "5d13e0c9",
   "metadata": {},
   "source": [
    "## ROUND 6 (ARIMA + No Imputation + GridSearch + RMSE Measure)"
   ]
  },
  {
   "cell_type": "code",
   "execution_count": 2,
   "id": "59c26612",
   "metadata": {},
   "outputs": [],
   "source": [
    "f1 = pd.read_csv('ARIMA FORECAST 6/CO Forecast.csv')\n",
    "f2 = pd.read_csv('ARIMA FORECAST 6/HC Forecast.csv')\n",
    "f3 = pd.read_csv('ARIMA FORECAST 6/NO2 Forecast.csv')\n",
    "f4 = pd.read_csv('ARIMA FORECAST 6/O3 Forecast.csv')\n",
    "\n",
    "kaggleDF = pd.concat([f1, f2, f3, f4], axis=0)\n",
    "indexInsert = np.arange(0,252)\n",
    "kaggleDF.insert(0, 'id', indexInsert)\n",
    "kaggleDF.reset_index(drop=True, inplace=True)\n",
    "kaggleDF.to_csv('ARIMA Kaggle Predictions 6.csv')"
   ]
  },
  {
   "cell_type": "markdown",
   "id": "2ba17977",
   "metadata": {},
   "source": [
    "## ROUND 7 (FINAL)"
   ]
  },
  {
   "cell_type": "code",
   "execution_count": 2,
   "id": "1ecd9671",
   "metadata": {},
   "outputs": [],
   "source": [
    "g1 = pd.read_csv('ARIMA FORECAST 7/CO Forecast.csv')\n",
    "g2 = pd.read_csv('ARIMA FORECAST 7/HC Forecast.csv')\n",
    "g3 = pd.read_csv('ARIMA FORECAST 7/NO2 Forecast.csv')\n",
    "g4 = pd.read_csv('ARIMA FORECAST 7/O3 Forecast.csv')\n",
    "\n",
    "kaggleDF = pd.concat([g1, g2, g3, g4], axis=0)\n",
    "indexInsert = np.arange(0,252)\n",
    "kaggleDF.insert(0, 'id', indexInsert)\n",
    "kaggleDF.reset_index(drop=True, inplace=True)\n",
    "kaggleDF.to_csv('ARIMA Kaggle Predictions 7.csv')"
   ]
  }
 ],
 "metadata": {
  "kernelspec": {
   "display_name": "Python 3 (ipykernel)",
   "language": "python",
   "name": "python3"
  },
  "language_info": {
   "codemirror_mode": {
    "name": "ipython",
    "version": 3
   },
   "file_extension": ".py",
   "mimetype": "text/x-python",
   "name": "python",
   "nbconvert_exporter": "python",
   "pygments_lexer": "ipython3",
   "version": "3.9.7"
  }
 },
 "nbformat": 4,
 "nbformat_minor": 5
}
